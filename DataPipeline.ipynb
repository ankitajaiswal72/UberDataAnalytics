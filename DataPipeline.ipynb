{
 "cells": [
  {
   "cell_type": "code",
   "execution_count": 4,
   "id": "4404b7fd",
   "metadata": {},
   "outputs": [],
   "source": [
    "import pandas as pd"
   ]
  },
  {
   "cell_type": "code",
   "execution_count": 5,
   "id": "17957286",
   "metadata": {},
   "outputs": [],
   "source": [
    "df=pd.read_csv('UberDataset.csv')"
   ]
  },
  {
   "cell_type": "code",
   "execution_count": 6,
   "id": "abda19b4",
   "metadata": {},
   "outputs": [
    {
     "data": {
      "text/html": [
       "<div>\n",
       "<style scoped>\n",
       "    .dataframe tbody tr th:only-of-type {\n",
       "        vertical-align: middle;\n",
       "    }\n",
       "\n",
       "    .dataframe tbody tr th {\n",
       "        vertical-align: top;\n",
       "    }\n",
       "\n",
       "    .dataframe thead th {\n",
       "        text-align: right;\n",
       "    }\n",
       "</style>\n",
       "<table border=\"1\" class=\"dataframe\">\n",
       "  <thead>\n",
       "    <tr style=\"text-align: right;\">\n",
       "      <th></th>\n",
       "      <th>START_DATE</th>\n",
       "      <th>END_DATE</th>\n",
       "      <th>CATEGORY</th>\n",
       "      <th>START</th>\n",
       "      <th>STOP</th>\n",
       "      <th>MILES</th>\n",
       "      <th>PURPOSE</th>\n",
       "    </tr>\n",
       "  </thead>\n",
       "  <tbody>\n",
       "    <tr>\n",
       "      <th>0</th>\n",
       "      <td>01-01-2016 21:11</td>\n",
       "      <td>01-01-2016 21:17</td>\n",
       "      <td>Business</td>\n",
       "      <td>Fort Pierce</td>\n",
       "      <td>Fort Pierce</td>\n",
       "      <td>5.1</td>\n",
       "      <td>Meal/Entertain</td>\n",
       "    </tr>\n",
       "    <tr>\n",
       "      <th>1</th>\n",
       "      <td>01-02-2016 01:25</td>\n",
       "      <td>01-02-2016 01:37</td>\n",
       "      <td>Business</td>\n",
       "      <td>Fort Pierce</td>\n",
       "      <td>Fort Pierce</td>\n",
       "      <td>5.0</td>\n",
       "      <td>NaN</td>\n",
       "    </tr>\n",
       "    <tr>\n",
       "      <th>2</th>\n",
       "      <td>01-02-2016 20:25</td>\n",
       "      <td>01-02-2016 20:38</td>\n",
       "      <td>Business</td>\n",
       "      <td>Fort Pierce</td>\n",
       "      <td>Fort Pierce</td>\n",
       "      <td>4.8</td>\n",
       "      <td>Errand/Supplies</td>\n",
       "    </tr>\n",
       "    <tr>\n",
       "      <th>3</th>\n",
       "      <td>01-05-2016 17:31</td>\n",
       "      <td>01-05-2016 17:45</td>\n",
       "      <td>Business</td>\n",
       "      <td>Fort Pierce</td>\n",
       "      <td>Fort Pierce</td>\n",
       "      <td>4.7</td>\n",
       "      <td>Meeting</td>\n",
       "    </tr>\n",
       "    <tr>\n",
       "      <th>4</th>\n",
       "      <td>01-06-2016 14:42</td>\n",
       "      <td>01-06-2016 15:49</td>\n",
       "      <td>Business</td>\n",
       "      <td>Fort Pierce</td>\n",
       "      <td>West Palm Beach</td>\n",
       "      <td>63.7</td>\n",
       "      <td>Customer Visit</td>\n",
       "    </tr>\n",
       "  </tbody>\n",
       "</table>\n",
       "</div>"
      ],
      "text/plain": [
       "         START_DATE          END_DATE  CATEGORY        START             STOP  \\\n",
       "0  01-01-2016 21:11  01-01-2016 21:17  Business  Fort Pierce      Fort Pierce   \n",
       "1  01-02-2016 01:25  01-02-2016 01:37  Business  Fort Pierce      Fort Pierce   \n",
       "2  01-02-2016 20:25  01-02-2016 20:38  Business  Fort Pierce      Fort Pierce   \n",
       "3  01-05-2016 17:31  01-05-2016 17:45  Business  Fort Pierce      Fort Pierce   \n",
       "4  01-06-2016 14:42  01-06-2016 15:49  Business  Fort Pierce  West Palm Beach   \n",
       "\n",
       "   MILES          PURPOSE  \n",
       "0    5.1   Meal/Entertain  \n",
       "1    5.0              NaN  \n",
       "2    4.8  Errand/Supplies  \n",
       "3    4.7          Meeting  \n",
       "4   63.7   Customer Visit  "
      ]
     },
     "execution_count": 6,
     "metadata": {},
     "output_type": "execute_result"
    }
   ],
   "source": [
    "df.head()"
   ]
  },
  {
   "cell_type": "code",
   "execution_count": 7,
   "id": "ec5bc496",
   "metadata": {},
   "outputs": [],
   "source": [
    "df['trip_id'] = df.index "
   ]
  },
  {
   "cell_type": "code",
   "execution_count": 8,
   "id": "977f2b9d",
   "metadata": {},
   "outputs": [
    {
     "name": "stdout",
     "output_type": "stream",
     "text": [
      "Datetime Dimension\n",
      "   datetime_id        START_DATE        start_hour         start_day  \\\n",
      "0            0  01-01-2016 21:11  01-01-2016 21:11  01-01-2016 21:11   \n",
      "1            1  01-02-2016 01:25  01-02-2016 01:25  01-02-2016 01:25   \n",
      "2            2  01-02-2016 20:25  01-02-2016 20:25  01-02-2016 20:25   \n",
      "3            3  01-05-2016 17:31  01-05-2016 17:31  01-05-2016 17:31   \n",
      "4            4  01-06-2016 14:42  01-06-2016 14:42  01-06-2016 14:42   \n",
      "\n",
      "        start_month        start_year     start_weekday          END_DATE  \\\n",
      "0  01-01-2016 21:11  01-01-2016 21:11  01-01-2016 21:11  01-01-2016 21:17   \n",
      "1  01-02-2016 01:25  01-02-2016 01:25  01-02-2016 01:25  01-02-2016 01:37   \n",
      "2  01-02-2016 20:25  01-02-2016 20:25  01-02-2016 20:25  01-02-2016 20:38   \n",
      "3  01-05-2016 17:31  01-05-2016 17:31  01-05-2016 17:31  01-05-2016 17:45   \n",
      "4  01-06-2016 14:42  01-06-2016 14:42  01-06-2016 14:42  01-06-2016 15:49   \n",
      "\n",
      "           end_hour           end_day         end_month          end_year  \\\n",
      "0  01-01-2016 21:17  01-01-2016 21:17  01-01-2016 21:17  01-01-2016 21:17   \n",
      "1  01-02-2016 01:37  01-02-2016 01:37  01-02-2016 01:37  01-02-2016 01:37   \n",
      "2  01-02-2016 20:38  01-02-2016 20:38  01-02-2016 20:38  01-02-2016 20:38   \n",
      "3  01-05-2016 17:45  01-05-2016 17:45  01-05-2016 17:45  01-05-2016 17:45   \n",
      "4  01-06-2016 15:49  01-06-2016 15:49  01-06-2016 15:49  01-06-2016 15:49   \n",
      "\n",
      "        end_weekday  \n",
      "0  01-01-2016 21:17  \n",
      "1  01-02-2016 01:37  \n",
      "2  01-02-2016 20:38  \n",
      "3  01-05-2016 17:45  \n",
      "4  01-06-2016 15:49  \n"
     ]
    }
   ],
   "source": [
    "# datetime dimension\n",
    "datetime_dim = df[['START_DATE', 'END_DATE']].reset_index(drop=True)\n",
    "datetime_dim['start_hour'] = datetime_dim['START_DATE']\n",
    "datetime_dim['start_day'] = datetime_dim['START_DATE']\n",
    "datetime_dim['start_month'] = datetime_dim['START_DATE']\n",
    "datetime_dim['start_year'] = datetime_dim['START_DATE']\n",
    "datetime_dim['start_weekday'] = datetime_dim['START_DATE']\n",
    "\n",
    "datetime_dim['end_hour'] = datetime_dim['END_DATE']\n",
    "datetime_dim['end_day'] = datetime_dim['END_DATE']\n",
    "datetime_dim['end_month'] = datetime_dim['END_DATE']\n",
    "datetime_dim['end_year'] = datetime_dim['END_DATE']\n",
    "datetime_dim['end_weekday'] = datetime_dim['END_DATE']\n",
    "\n",
    "datetime_dim['datetime_id'] = datetime_dim.index\n",
    "\n",
    "datetime_dim = datetime_dim[['datetime_id', 'START_DATE', 'start_hour', 'start_day', 'start_month', 'start_year', 'start_weekday',\n",
    "                             'END_DATE', 'end_hour', 'end_day', 'end_month', 'end_year', 'end_weekday']]\n",
    "\n",
    "print(\"Datetime Dimension\")\n",
    "print(datetime_dim.head())"
   ]
  },
  {
   "cell_type": "code",
   "execution_count": 9,
   "id": "eb5a7949",
   "metadata": {},
   "outputs": [
    {
     "name": "stdout",
     "output_type": "stream",
     "text": [
      "\n",
      "Category Dimension\n",
      "   category_id  CATEGORY\n",
      "0            0  Business\n",
      "1            1  Business\n",
      "2            2  Business\n",
      "3            3  Business\n",
      "4            4  Business\n"
     ]
    }
   ],
   "source": [
    "# category dimension\n",
    "category_dim = df[['CATEGORY']].reset_index(drop=True)\n",
    "category_dim['category_id'] = category_dim.index\n",
    "category_dim = category_dim[['category_id', 'CATEGORY']]\n",
    "print(\"\\nCategory Dimension\")\n",
    "print(category_dim.head())"
   ]
  },
  {
   "cell_type": "code",
   "execution_count": 10,
   "id": "f6356ed8",
   "metadata": {},
   "outputs": [
    {
     "name": "stdout",
     "output_type": "stream",
     "text": [
      "\n",
      "Start Location Dimension\n",
      "   start_location_id        START\n",
      "0                  0  Fort Pierce\n",
      "1                  1  Fort Pierce\n",
      "2                  2  Fort Pierce\n",
      "3                  3  Fort Pierce\n",
      "4                  4  Fort Pierce\n"
     ]
    }
   ],
   "source": [
    "# start location dimension\n",
    "start_location_dim = df[['START']].reset_index(drop=True)\n",
    "start_location_dim['start_location_id'] = start_location_dim.index\n",
    "start_location_dim = start_location_dim[['start_location_id', 'START']]\n",
    "print(\"\\nStart Location Dimension\")\n",
    "print(start_location_dim.head())"
   ]
  },
  {
   "cell_type": "code",
   "execution_count": 11,
   "id": "2de87285",
   "metadata": {},
   "outputs": [
    {
     "name": "stdout",
     "output_type": "stream",
     "text": [
      "\n",
      "Stop Location Dimension\n",
      "   stop_location_id             STOP\n",
      "0                 0      Fort Pierce\n",
      "1                 1      Fort Pierce\n",
      "2                 2      Fort Pierce\n",
      "3                 3      Fort Pierce\n",
      "4                 4  West Palm Beach\n"
     ]
    }
   ],
   "source": [
    "# Create stop location dimension\n",
    "stop_location_dim = df[['STOP']].reset_index(drop=True)\n",
    "stop_location_dim['stop_location_id'] = stop_location_dim.index\n",
    "stop_location_dim = stop_location_dim[['stop_location_id', 'STOP']]\n",
    "print(\"\\nStop Location Dimension\")\n",
    "print(stop_location_dim.head())"
   ]
  },
  {
   "cell_type": "code",
   "execution_count": 12,
   "id": "8fb9177c",
   "metadata": {},
   "outputs": [
    {
     "name": "stdout",
     "output_type": "stream",
     "text": [
      "\n",
      "Miles Dimension\n",
      "   miles_id  MILES\n",
      "0         0    5.1\n",
      "1         1    5.0\n",
      "2         2    4.8\n",
      "3         3    4.7\n",
      "4         4   63.7\n"
     ]
    }
   ],
   "source": [
    "# Create miles dimension\n",
    "miles_dim = df[['MILES']].reset_index(drop=True)\n",
    "miles_dim['miles_id'] = miles_dim.index\n",
    "miles_dim = miles_dim[['miles_id', 'MILES']]\n",
    "print(\"\\nMiles Dimension\")\n",
    "print(miles_dim.head())"
   ]
  },
  {
   "cell_type": "code",
   "execution_count": 13,
   "id": "818bf089",
   "metadata": {},
   "outputs": [
    {
     "name": "stdout",
     "output_type": "stream",
     "text": [
      "\n",
      "Purpose Dimension\n",
      "   purpose_id          PURPOSE\n",
      "0           0   Meal/Entertain\n",
      "1           1              NaN\n",
      "2           2  Errand/Supplies\n",
      "3           3          Meeting\n",
      "4           4   Customer Visit\n"
     ]
    }
   ],
   "source": [
    "# Create purpose dimension\n",
    "purpose_dim = df[['PURPOSE']].reset_index(drop=True)\n",
    "purpose_dim['purpose_id'] = purpose_dim.index\n",
    "purpose_dim = purpose_dim[['purpose_id', 'PURPOSE']]\n",
    "print(\"\\nPurpose Dimension\")\n",
    "print(purpose_dim.head())"
   ]
  },
  {
   "cell_type": "code",
   "execution_count": 14,
   "id": "55105cf6",
   "metadata": {},
   "outputs": [
    {
     "name": "stdout",
     "output_type": "stream",
     "text": [
      "\n",
      "Fact Table\n",
      "      trip_id  datetime_id  category_id  start_location_id  stop_location_id  \\\n",
      "0           0            0            0                  0                 0   \n",
      "1           1            1            1                  1                 1   \n",
      "2           2            2            2                  2                 2   \n",
      "3           3            3            3                  3                 3   \n",
      "4           4            4            4                  4                 4   \n",
      "...       ...          ...          ...                ...               ...   \n",
      "1151     1151         1151         1151               1151              1151   \n",
      "1152     1152         1152         1152               1152              1152   \n",
      "1153     1153         1153         1153               1153              1153   \n",
      "1154     1154         1154         1154               1154              1154   \n",
      "1155     1155         1155         1155               1155              1155   \n",
      "\n",
      "      miles_id  purpose_id  \n",
      "0            0           0  \n",
      "1            1           1  \n",
      "2            2           2  \n",
      "3            3           3  \n",
      "4            4           4  \n",
      "...        ...         ...  \n",
      "1151      1151        1151  \n",
      "1152      1152        1152  \n",
      "1153      1153        1153  \n",
      "1154      1154        1154  \n",
      "1155      1155        1155  \n",
      "\n",
      "[1156 rows x 7 columns]\n"
     ]
    }
   ],
   "source": [
    "# Create the fact table\n",
    "fact_table = df.merge(category_dim, left_on='trip_id', right_on='category_id') \\\n",
    "               .merge(start_location_dim, left_on='trip_id', right_on='start_location_id') \\\n",
    "               .merge(stop_location_dim, left_on='trip_id', right_on='stop_location_id') \\\n",
    "               .merge(miles_dim, left_on='trip_id', right_on='miles_id') \\\n",
    "               .merge(purpose_dim, left_on='trip_id', right_on='purpose_id') \\\n",
    "               .merge(datetime_dim, left_on='trip_id', right_on='datetime_id') \\\n",
    "               [['trip_id', 'datetime_id', 'category_id', 'start_location_id', 'stop_location_id', 'miles_id', 'purpose_id']]\n",
    "print(\"\\nFact Table\")\n",
    "print(fact_table)"
   ]
  },
  {
   "cell_type": "code",
   "execution_count": 16,
   "id": "d61073bd",
   "metadata": {},
   "outputs": [],
   "source": [
    "fact_table.to_csv('fact_table.csv',index=False)"
   ]
  },
  {
   "cell_type": "code",
   "execution_count": null,
   "id": "b94ebbd2",
   "metadata": {},
   "outputs": [],
   "source": []
  }
 ],
 "metadata": {
  "kernelspec": {
   "display_name": "Python 3 (ipykernel)",
   "language": "python",
   "name": "python3"
  },
  "language_info": {
   "codemirror_mode": {
    "name": "ipython",
    "version": 3
   },
   "file_extension": ".py",
   "mimetype": "text/x-python",
   "name": "python",
   "nbconvert_exporter": "python",
   "pygments_lexer": "ipython3",
   "version": "3.11.5"
  }
 },
 "nbformat": 4,
 "nbformat_minor": 5
}
